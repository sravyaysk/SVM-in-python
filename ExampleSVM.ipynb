{
 "cells": [
  {
   "cell_type": "markdown",
   "metadata": {},
   "source": [
    "Given some data about fruits and we want to label it automatically.\n",
    "Fruits are characterized by\n",
    "1. weight in grams as float\n",
    "2. color as an integer [1 -> red, 2 -> orange, 3 -> yellow, 4 -> green, 5 -> blue, 6 -> purple]\n",
    "3. label as string [\"A\" -> Apple, \"B\" -> Banana]\n",
    "We are given some sample data such as (303, 3, \"A\") meaning the fruit with 303 gram weight, and yellow colour is an apple.\n",
    "A set of such training examples is given in “01-train.csv”. This has a small set of 17 labeled examples. \n",
    "We are given a set of test data where only weight and colour are given, eg. (373,1).\n",
    "We should design a simple SVM classifier that will find the fruit label. i.e., \"A\" or \"B\", meaning Apple or Banana. \n",
    "We have 102 such testcases. We are also given additional files which have the correct labels for all the 102 test cases.\n",
    "Here are the details of all the files:\n",
    "\n",
    "01-train.csv ⇒ The original input data. \n",
    "18 lines\n",
    "the first line is a header\n",
    "each of the remaining 17 lines has three pieces of data:\n",
    "weight in grams :: float\n",
    "colour code :: 1, 2, 3, 4, 5 \n",
    "label :: \"A\", \"B\"\n",
    "\n",
    "01-test1.csv ⇒ The first test data set.\n",
    "31 lines\n",
    "the first line is a header\n",
    "each of the remaining 30 lines has two pieces of data\n",
    "weight in grams :: float\n",
    "colour code :: 1, 2, 3, 4, 5\n",
    "\n",
    "01-test1-labels.csv ⇒ The labels for test data set above. That is, each line has just the correct label.\n",
    "\n",
    "01-test1-labelled.csv ⇒ The above two files combined. \n",
    "\n",
    "01-test2.csv ⇒ The second test data set. Similar to the first data set, except that it has 73 lines.\n",
    "\n",
    "01-test2-labels.csv ⇒ The labels for test data set above. That is, each line has just the correct label.\n",
    "\n",
    "01-test2-labelled.csv ⇒ The above two files combined. "
   ]
  },
  {
   "cell_type": "code",
   "execution_count": 1,
   "metadata": {},
   "outputs": [
    {
     "name": "stdout",
     "output_type": "stream",
     "text": [
      "    Weight  Colour Label\n",
      "0      303       3     B\n",
      "1      370       1     A\n",
      "2      298       3     B\n",
      "3      277       3     B\n",
      "4      377       4     A\n",
      "5      299       3     B\n",
      "6      382       1     A\n",
      "7      374       4     A\n",
      "8      303       4     B\n",
      "9      309       3     B\n",
      "10     359       1     A\n",
      "11     366       1     A\n",
      "12     311       3     B\n",
      "13     302       3     B\n",
      "14     373       4     A\n",
      "15     305       3     B\n",
      "16     371       3     A\n"
     ]
    }
   ],
   "source": [
    "import pandas as pd\n",
    "train = pd.read_csv(\"01-train.csv\")\n",
    "print(train)"
   ]
  },
  {
   "cell_type": "code",
   "execution_count": 2,
   "metadata": {},
   "outputs": [
    {
     "data": {
      "image/png": "[encoded data removed]",
      "text/plain": [
       "<matplotlib.figure.Figure at 0xb5e1940>"
      ]
     },
     "metadata": {},
     "output_type": "display_data"
    }
   ],
   "source": [
    "apples = train[train.Label == \"A\"]\n",
    "bananas = train[train.Label == \"B\"]\n",
    "import matplotlib.pyplot as plt\n",
    "plt.plot(apples.Weight, apples.Colour, \"ro\")\n",
    "plt.plot(bananas.Weight, bananas.Colour, \"y+\")\n",
    "plt.xlabel(\"Weight -- in grams\")\n",
    "plt.ylabel(\"Colour -- r-o-y-g-b-p\")\n",
    "plt.legend([\"Apples\", \"Bananas\"])\n",
    "plt.show()"
   ]
  },
  {
   "cell_type": "code",
   "execution_count": 24,
   "metadata": {},
   "outputs": [],
   "source": [
    "data = train.values\n",
    "X = []\n",
    "y= []\n",
    "for i in range(data.shape[0]):\n",
    "    dummy = []\n",
    "    for j in range(data.shape[1]):\n",
    "        if(j == data.shape[1]-1):\n",
    "            y.append(data[i][j])\n",
    "        else:\n",
    "            dummy.append(data[i][j])\n",
    "    X.append(dummy)"
   ]
  },
  {
   "cell_type": "code",
   "execution_count": 25,
   "metadata": {},
   "outputs": [
    {
     "name": "stdout",
     "output_type": "stream",
     "text": [
      "([303L, 3L], [370L, 1L])\n",
      "('B', 'A')\n",
      "(array([303L, 3L, 'B'], dtype=object), array([370L, 1L, 'A'], dtype=object))\n"
     ]
    }
   ],
   "source": [
    "print(X[0],X[1])\n",
    "print(y[0],y[1])\n",
    "print(data[0],data[1])"
   ]
  },
  {
   "cell_type": "code",
   "execution_count": 26,
   "metadata": {},
   "outputs": [
    {
     "data": {
      "text/plain": [
       "SVC(C=1.0, cache_size=200, class_weight=None, coef0=0.0,\n",
       "  decision_function_shape=None, degree=3, gamma='auto', kernel='rbf',\n",
       "  max_iter=-1, probability=False, random_state=None, shrinking=True,\n",
       "  tol=0.001, verbose=False)"
      ]
     },
     "execution_count": 26,
     "metadata": {},
     "output_type": "execute_result"
    }
   ],
   "source": [
    "from sklearn import svm\n",
    "svc = svm.SVC()\n",
    "svc.fit(X,y)"
   ]
  },
  {
   "cell_type": "code",
   "execution_count": 36,
   "metadata": {},
   "outputs": [
    {
     "name": "stdout",
     "output_type": "stream",
     "text": [
      "('B', 'A')\n"
     ]
    }
   ],
   "source": [
    "#test sample\n",
    "result = svc.predict([[303,3],[318.1,3]])\n",
    "print(result[0],result[1])"
   ]
  },
  {
   "cell_type": "code",
   "execution_count": 29,
   "metadata": {},
   "outputs": [],
   "source": [
    "#testset\n",
    "testData = pd.read_csv(\"01-test1.csv\").values\n",
    "testLabels = pd.read_csv(\"01-test1-labels.csv\").values.flatten()\n",
    "\n",
    "test = []\n",
    "for i in range(testData.shape[0]):\n",
    "    dummy = []\n",
    "    for j in range(testData.shape[1]):\n",
    "        dummy.append(testData[i][j])\n",
    "    test.append(dummy)"
   ]
  },
  {
   "cell_type": "code",
   "execution_count": 31,
   "metadata": {},
   "outputs": [
    {
     "name": "stdout",
     "output_type": "stream",
     "text": [
      "(array([ 318.1,    3. ]), array([ 293.8,    3. ]))\n",
      "([318.10000000000002, 3.0], [293.80000000000001, 3.0])\n",
      "B\n"
     ]
    }
   ],
   "source": [
    "print(testData[0],testData[1])\n",
    "print(test[0],test[1])\n",
    "print(testLabels[0])"
   ]
  },
  {
   "cell_type": "code",
   "execution_count": 45,
   "metadata": {},
   "outputs": [
    {
     "name": "stdout",
     "output_type": "stream",
     "text": [
      "('Accuracy is: ', 63.33333333333333)\n"
     ]
    }
   ],
   "source": [
    "#predicting accuracy\n",
    "count = 0\n",
    "for i in range(testData.shape[0]):\n",
    "    result = svc.predict([test[i]])\n",
    "    #print(test[i],result,result[0],testLabels[i],count)\n",
    "    if(result[0] == testLabels[i]):\n",
    "        count +=1\n",
    "    #break\n",
    "print(\"Accuracy is: \", (float(count)/testData.shape[0])*100)"
   ]
  },
  {
   "cell_type": "code",
   "execution_count": null,
   "metadata": {
    "collapsed": true
   },
   "outputs": [],
   "source": []
  }
 ],
 "metadata": {
  "kernelspec": {
   "display_name": "Python 2",
   "language": "python",
   "name": "python2"
  },
  "language_info": {
   "codemirror_mode": {
    "name": "ipython",
    "version": 2
   },
   "file_extension": ".py",
   "mimetype": "text/x-python",
   "name": "python",
   "nbconvert_exporter": "python",
   "pygments_lexer": "ipython2",
   "version": "2.7.13"
  }
 },
 "nbformat": 4,
 "nbformat_minor": 2
}
